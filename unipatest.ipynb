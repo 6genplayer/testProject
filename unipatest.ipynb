{
 "cells": [
  {
   "cell_type": "markdown",
   "metadata": {},
   "source": [
    "## テスト用"
   ]
  },
  {
   "cell_type": "code",
   "execution_count": null,
   "metadata": {},
   "outputs": [],
   "source": [
    "# 必要モジュールのインストール\r\n",
    "from selenium.webdriver import Chrome,ChromeOptions\r\n",
    "from selenium.webdriver.common.keys import Keys \r\n",
    "from selenium.webdriver.common.by import By\r\n",
    "from selenium.webdriver.support.ui import WebDriverWait\r\n",
    "from selenium.webdriver.support import expected_conditions as EC\r\n",
    "import time \r\n",
    "from datetime import datetime\r\n",
    "import dotenv\r\n",
    "import os\r\n",
    "dotenv.load_dotenv(\"./info/.env\")"
   ]
  },
  {
   "cell_type": "code",
   "execution_count": null,
   "metadata": {},
   "outputs": [],
   "source": [
    "# 環境変数から抜き出し\r\n",
    "UserID = os.environ[\"USERID\"]\r\n",
    "PassWord = os.environ[\"PASS\"]\r\n",
    "\r\n",
    "# unipaのURL\r\n",
    "URL = \"https://unipa.u-hyogo.ac.jp/uprx/\"\r\n",
    "# driverのオプション設定\r\n",
    "options = ChromeOptions()\r\n",
    "options.headless = False\r\n",
    "# chromedriverを作成\r\n",
    "driver = Chrome(options=options)\r\n",
    "driver.get(URL)\r\n",
    "WebDriverWait(driver, 15).until(EC.presence_of_all_elements_located((By.XPATH,'//*[@id=\"loginForm:userId\"]')))\r\n",
    "\r\n",
    "# UserIDやPasswordの入力及び送信\r\n",
    "input_element_key1 = driver.find_element_by_xpath('//*[@id=\"loginForm:userId\"]')\r\n",
    "input_element_key2 = driver.find_element_by_xpath('//*[@id=\"loginForm:password\"]')\r\n",
    "botton = driver.find_element_by_xpath('//*[@id=\"loginForm:loginButton\"]')\r\n",
    "input_element_key1.send_keys(UserID)\r\n",
    "input_element_key2.send_keys(PassWord)\r\n",
    "botton.send_keys(Keys.RETURN)\r\n",
    "time.sleep(2)\r\n",
    "\r\n",
    "# クラスプロファイルを探索しに行く\r\n",
    "driver.find_element_by_xpath('//*[@id=\"funcForm:j_idt361:j_idt518:j_idt524\"]/p').click()\r\n",
    "\r\n",
    "# 事前に今日の曜日を確認する必要がある\r\n",
    "# 0:月曜日\r\n",
    "d = datetime.today().weekday()+1\r\n",
    "\r\n",
    "count_class=[]\r\n",
    "# 曜日とscccelectorの規則を確認\r\n",
    "for c in range(1,6):\r\n",
    "   if c == d:\r\n",
    "      continue\r\n",
    "   driver.find_element_by_css_selector(f'#funcLeftForm\\:yobiPanel{c}_toggler > span').click()\r\n",
    "   classes = driver.find_elements_by_css_selector(f'#funcLeftForm\\:yobiPanel{c}_content > div.classList')\r\n",
    "   count_class.append(len(classes))\r\n",
    "   time.sleep(1)\r\n"
   ]
  },
  {
   "cell_type": "code",
   "execution_count": null,
   "metadata": {},
   "outputs": [],
   "source": [
    "# 事前に今日の曜日を確認する必要がある\r\n",
    "# 0:月曜日\r\n",
    "d = datetime.today().weekday()+1\r\n",
    "\r\n",
    "count_class=[]\r\n",
    "# 曜日とscccelectorの規則を確認\r\n",
    "for c in range(1,6):\r\n",
    "   if c == d:\r\n",
    "      continue\r\n",
    "   # すべての授業のバーを下に開く\r\n",
    "   driver.find_element_by_css_selector(f'#funcLeftForm\\:yobiPanel{c}_toggler > span').click()\r\n",
    "   classes = driver.find_elements_by_css_selector(f'#funcLeftForm\\:yobiPanel{c}_content > div.classList')\r\n",
    "   count_class.append(len(classes))\r\n",
    "   time.sleep(1)\r\n"
   ]
  }
 ],
 "metadata": {
  "interpreter": {
   "hash": "b3ba2566441a7c06988d0923437866b63cedc61552a5af99d1f4fb67d367b25f"
  },
  "kernelspec": {
   "display_name": "Python 3.7.3 64-bit ('base': conda)",
   "name": "python3"
  },
  "language_info": {
   "codemirror_mode": {
    "name": "ipython",
    "version": 3
   },
   "file_extension": ".py",
   "mimetype": "text/x-python",
   "name": "python",
   "nbconvert_exporter": "python",
   "pygments_lexer": "ipython3",
   "version": "3.7.3"
  },
  "orig_nbformat": 4
 },
 "nbformat": 4,
 "nbformat_minor": 2
}